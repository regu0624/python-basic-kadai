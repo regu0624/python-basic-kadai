{
  "nbformat": 4,
  "nbformat_minor": 0,
  "metadata": {
    "colab": {
      "provenance": []
    },
    "kernelspec": {
      "name": "python3",
      "display_name": "Python 3"
    },
    "language_info": {
      "name": "python"
    }
  },
  "cells": [
    {
      "cell_type": "code",
      "execution_count": 8,
      "metadata": {
        "colab": {
          "base_uri": "https://localhost:8080/"
        },
        "id": "ptLgh779lhER",
        "outputId": "521d8d83-d788-4789-a6ad-8e27d247e6b1"
      },
      "outputs": [
        {
          "output_type": "stream",
          "name": "stdout",
          "text": [
            "330.0\n"
          ]
        }
      ],
      "source": [
        "def total():\n",
        "  tax=1.1\n",
        "  total=(price1+price2)*tax\n",
        "  return total\n",
        "\n",
        "print(total())\n",
        ""
      ]
    },
    {
      "cell_type": "code",
      "source": [
        "price1=100\n",
        "price2=200"
      ],
      "metadata": {
        "id": "PWs-JHUCmhNR"
      },
      "execution_count": 3,
      "outputs": []
    }
  ]
}