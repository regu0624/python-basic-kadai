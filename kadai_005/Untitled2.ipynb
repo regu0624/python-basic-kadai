{
  "nbformat": 4,
  "nbformat_minor": 0,
  "metadata": {
    "colab": {
      "provenance": []
    },
    "kernelspec": {
      "name": "python3",
      "display_name": "Python 3"
    },
    "language_info": {
      "name": "python"
    }
  },
  "cells": [
    {
      "cell_type": "code",
      "execution_count": 7,
      "metadata": {
        "colab": {
          "base_uri": "https://localhost:8080/"
        },
        "id": "vdfM_-udxFyo",
        "outputId": "0b011595-9ad2-4754-f8d9-bcd291b69430"
      },
      "outputs": [
        {
          "output_type": "stream",
          "name": "stdout",
          "text": [
            "30\n",
            "75.0\n",
            "台形の面積は75.0㎠\n"
          ]
        }
      ],
      "source": [
        "number_1=10 #上辺\n",
        "number_2=20 #下辺\n",
        "high=5      #高さ\n",
        "sum = number_1+number_2\n",
        "print(sum)\n",
        "menseki=sum*high/2\n",
        "print(menseki)\n",
        "print(f\"台形の面積は{menseki}㎠\")"
      ]
    }
  ]
}