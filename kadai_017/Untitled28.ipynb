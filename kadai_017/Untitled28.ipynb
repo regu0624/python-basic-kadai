{
  "nbformat": 4,
  "nbformat_minor": 0,
  "metadata": {
    "colab": {
      "provenance": []
    },
    "kernelspec": {
      "name": "python3",
      "display_name": "Python 3"
    },
    "language_info": {
      "name": "python"
    }
  },
  "cells": [
    {
      "cell_type": "code",
      "execution_count": 1,
      "metadata": {
        "colab": {
          "base_uri": "https://localhost:8080/"
        },
        "id": "-oljiqXunr9V",
        "outputId": "1fbba058-c3a4-41b7-b838-ec33f64fbda0"
      },
      "outputs": [
        {
          "output_type": "stream",
          "name": "stdout",
          "text": [
            "Alice is an adult.\n",
            "Bob is not an adult.\n",
            "Charlie is an adult.\n"
          ]
        }
      ],
      "source": [
        "class Human:\n",
        "    def __init__(self, name, age):\n",
        "        self.name = name\n",
        "        self.age = age\n",
        "\n",
        "    def check_adult(self):\n",
        "        if self.age >= 18:\n",
        "            return f\"{self.name} is an adult.\"\n",
        "        else:\n",
        "            return f\"{self.name} is not an adult.\"\n",
        "\n",
        "# Humanクラスのインスタンスを生成\n",
        "person1 = Human(\"Alice\", 25)\n",
        "person2 = Human(\"Bob\", 17)\n",
        "person3 = Human(\"Charlie\", 30)\n",
        "\n",
        "# インスタンスをリストに追加\n",
        "people_list = [person1, person2, person3]\n",
        "\n",
        "# リストの要素数分だけcheck_adultメソッドを呼び出す\n",
        "for person in people_list:\n",
        "    print(person.check_adult())"
      ]
    }
  ]
}