{
  "nbformat": 4,
  "nbformat_minor": 0,
  "metadata": {
    "colab": {
      "provenance": []
    },
    "kernelspec": {
      "name": "python3",
      "display_name": "Python 3"
    },
    "language_info": {
      "name": "python"
    }
  },
  "cells": [
    {
      "cell_type": "code",
      "source": [],
      "metadata": {
        "id": "zZoH_RfZVnTj"
      },
      "execution_count": null,
      "outputs": []
    },
    {
      "cell_type": "code",
      "source": [],
      "metadata": {
        "id": "Vv2S1ba0VnHO"
      },
      "execution_count": null,
      "outputs": []
    },
    {
      "cell_type": "code",
      "source": [],
      "metadata": {
        "id": "yY2aXowlVn-1"
      },
      "execution_count": null,
      "outputs": []
    },
    {
      "cell_type": "code",
      "execution_count": 5,
      "metadata": {
        "id": "iwBy3kIDUBFE"
      },
      "outputs": [],
      "source": [
        "def total_price(price,tax):\n",
        "  total=price+price*tax*0.01\n",
        "  print(f\"{total}円です\")\n"
      ]
    },
    {
      "cell_type": "code",
      "source": [
        "total_price(110,10)"
      ],
      "metadata": {
        "colab": {
          "base_uri": "https://localhost:8080/"
        },
        "id": "e_K3i3cMWAGz",
        "outputId": "afd53a29-4ea2-4544-f9f1-0961a4c5d8eb"
      },
      "execution_count": 6,
      "outputs": [
        {
          "output_type": "stream",
          "name": "stdout",
          "text": [
            "121.0円です\n"
          ]
        }
      ]
    }
  ]
}